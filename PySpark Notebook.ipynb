{
 "cells": [
  {
   "cell_type": "code",
   "execution_count": 241,
   "metadata": {},
   "outputs": [],
   "source": [
    "import pandas as pd\n",
    "from pyspark.sql import SparkSession\n",
    "import pyspark.sql.functions as F\n",
    "from pyspark.sql import Window\n",
    "from pyspark.ml.feature import Imputer\n",
    "from pyspark.sql.types import FloatType"
   ]
  },
  {
   "cell_type": "code",
   "execution_count": 66,
   "metadata": {},
   "outputs": [],
   "source": [
    "# Intiate our spark session\n",
    "spark = SparkSession.builder \\\n",
    "    .master(\"local\") \\\n",
    "    .config(\"spark.executor.memory\", \"2gb\") \\\n",
    "    .appName(\"Tech Challenge\") \\\n",
    "    .getOrCreate()"
   ]
  },
  {
   "cell_type": "code",
   "execution_count": 268,
   "metadata": {},
   "outputs": [],
   "source": [
    "# Load data into spark\n",
    "data = spark.read.csv(\"paytmteam-de-weather-challenge-beb4fc53605c/data/2019/*\", header=True)\n",
    "countries = spark.read.csv(\"paytmteam-de-weather-challenge-beb4fc53605c/countrylist.csv\", header=True)\n",
    "stations = spark.read.csv(\"paytmteam-de-weather-challenge-beb4fc53605c/stationlist.csv\", header=True)"
   ]
  },
  {
   "cell_type": "code",
   "execution_count": 269,
   "metadata": {},
   "outputs": [],
   "source": [
    "# Rename column to make joins easier\n",
    "stations = stations.withColumnRenamed(\"COUNTRY_ABBR\", \"STATION_COUNTRY_ABBR\")   "
   ]
  },
  {
   "cell_type": "code",
   "execution_count": 270,
   "metadata": {},
   "outputs": [],
   "source": [
    "# Replace missing values with None, \n",
    "# Convert important columns to int\n",
    "data = data.withColumn(\"TEMP\", F.when(data.TEMP == '9999.9', None).otherwise(data.TEMP))\n",
    "data = data.withColumn(\"WDSP\", F.when(data.WDSP == '999.9', None).otherwise(data.WDSP))\n",
    "\n",
    "data = data.withColumn(\"TEMP\", data.TEMP.cast(FloatType()))\n",
    "data = data.withColumn(\"WDSP\", data.WDSP.cast(FloatType()))"
   ]
  },
  {
   "cell_type": "code",
   "execution_count": 273,
   "metadata": {},
   "outputs": [],
   "source": [
    "# Join Countries to stations and data to stations.\n",
    "dataset = stations.join(countries, stations.STATION_COUNTRY_ABBR == countries.COUNTRY_ABBR) \\\n",
    "                    .join(data, F.col(\"STN---\") == stations.STN_NO)"
   ]
  },
  {
   "cell_type": "code",
   "execution_count": 274,
   "metadata": {},
   "outputs": [],
   "source": [
    "# Replace missing temperature values with the mean\n",
    "\n",
    "imputer = Imputer(strategy='mean', inputCol=\"TEMP\", outputCol='TEMP_IMPUTED', missingValue=9999.9)\n",
    "impute_model = imputer.fit(dataset)\n",
    "\n",
    "dataset_temp_imputed = impute_model.transform(dataset)"
   ]
  },
  {
   "cell_type": "code",
   "execution_count": 275,
   "metadata": {},
   "outputs": [],
   "source": [
    "# Replace missing wind speed values with the mean. \n",
    "# Ideally this could be done in the same operation as above, \n",
    "# however different missing values makes this complicated.\n",
    "\n",
    "imputer = Imputer(strategy='mean', inputCol=\"WDSP\", outputCol='WDSP_IMPUTED', missingValue=999.9)\n",
    "impute_model = imputer.fit(dataset_temp_imputed)\n",
    "\n",
    "dataset_both_imputed = impute_model.transform(dataset_temp_imputed)"
   ]
  },
  {
   "cell_type": "markdown",
   "metadata": {},
   "source": [
    "# Which country had the hottest average mean temperature over the year?"
   ]
  },
  {
   "cell_type": "code",
   "execution_count": 276,
   "metadata": {},
   "outputs": [
    {
     "data": {
      "text/plain": [
       "Row(COUNTRY_FULL='DJIBOUTI', avg_temp=90.06114474836602)"
      ]
     },
     "execution_count": 276,
     "metadata": {},
     "output_type": "execute_result"
    }
   ],
   "source": [
    "dataset_both_imputed.groupby(F.col(\"COUNTRY_FULL\")) \\\n",
    "        .agg(F.mean(\"TEMP_IMPUTED\").alias(\"avg_temp\")) \\\n",
    "        .sort(F.col(\"avg_temp\").desc()) \\\n",
    "        .first()"
   ]
  },
  {
   "cell_type": "markdown",
   "metadata": {},
   "source": [
    "Djibouti had the hottest average temperature for the year at 90.1 degrees Fahrenheit."
   ]
  },
  {
   "cell_type": "markdown",
   "metadata": {},
   "source": [
    "# Which country had the most consecutive days of tornadoes/funnel cloud formations?"
   ]
  },
  {
   "cell_type": "code",
   "execution_count": 230,
   "metadata": {},
   "outputs": [
    {
     "name": "stdout",
     "output_type": "stream",
     "text": [
      "+--------------+----------+\n",
      "|  COUNTRY_FULL|max_streak|\n",
      "+--------------+----------+\n",
      "|         INDIA|         2|\n",
      "|         JAPAN|         2|\n",
      "|        CANADA|         2|\n",
      "|CAYMAN ISLANDS|         2|\n",
      "|         ITALY|         2|\n",
      "| UNITED STATES|         2|\n",
      "|         GHANA|         2|\n",
      "|         MALTA|         1|\n",
      "|    COSTA RICA|         1|\n",
      "|         NIGER|         1|\n",
      "|   BAHAMAS THE|         1|\n",
      "|       ALGERIA|         1|\n",
      "|      GUERNSEY|         1|\n",
      "|         ARUBA|         1|\n",
      "|       SENEGAL|         1|\n",
      "|   PUERTO RICO|         1|\n",
      "|      COLOMBIA|         1|\n",
      "|        JERSEY|         1|\n",
      "|    BANGLADESH|         1|\n",
      "|      TANZANIA|         1|\n",
      "+--------------+----------+\n",
      "only showing top 20 rows\n",
      "\n"
     ]
    }
   ],
   "source": [
    "tornadoes = dataset_both_imputed.withColumn(\"tornado\", substring(F.col(\"FRSHTT\"), 6, 1)) \\\n",
    "    .groupby(F.col(\"COUNTRY_FULL\"), F.col(\"YEARMODA\")) \\\n",
    "    .agg(F.max(\"tornado\").alias(\"tornado_today\")) \\\n",
    "    .sort(F.col(\"COUNTRY_FULL\"), F.col(\"YEARMODA\"))\n",
    "\n",
    "w1 = Window.partitionBy(tornadoes.COUNTRY_FULL).orderBy(tornadoes.YEARMODA)\n",
    "w2 = Window.partitionBy(tornadoes.COUNTRY_FULL, tornadoes.tornado_today).orderBy(tornadoes.YEARMODA)\n",
    "\n",
    "diff = tornadoes.withColumn('tmp', F.row_number().over(w1) - F.row_number().over(w2))\n",
    "\n",
    "w3 = Window.partitionBy(diff.COUNTRY_FULL, diff.tornado_today, diff.tmp).orderBy(diff.YEARMODA)\n",
    "\n",
    "tornado_streaks = diff.withColumn('streak', F.when(diff.tornado_today == 0, 0).otherwise(F.row_number().over(w3))) \\\n",
    "                            .sort(F.col(\"YEARMODA\")) \\\n",
    "                            .drop(F.col(\"tmp\"))\n",
    "\n",
    "tornado_streaks.groupby(F.col(\"COUNTRY_FULL\")) \\\n",
    "    .agg(F.max(F.col(\"streak\")).alias(\"max_streak\")) \\\n",
    "    .sort(F.col(\"max_streak\").desc()) \\\n",
    "    .show()"
   ]
  },
  {
   "cell_type": "markdown",
   "metadata": {},
   "source": [
    "Seven countries tied for the most consecutive days of tornadoes; India, Japan, Canada, Cayman Islands, Italy, and the US, each with 2-day long streaks."
   ]
  },
  {
   "cell_type": "markdown",
   "metadata": {},
   "source": [
    "# Which country had the second highest average mean wind speed over the year?"
   ]
  },
  {
   "cell_type": "code",
   "execution_count": 277,
   "metadata": {},
   "outputs": [
    {
     "name": "stdout",
     "output_type": "stream",
     "text": [
      "Row(COUNTRY_FULL='ARUBA', avg_wdsp=15.97568304160905)\n"
     ]
    }
   ],
   "source": [
    "avg_windspeed = dataset_both_imputed.groupby(F.col(\"COUNTRY_FULL\")) \\\n",
    "        .agg(F.mean(\"WDSP_IMPUTED\").alias(\"avg_wdsp\")) \\\n",
    "        .sort(F.col(\"avg_wdsp\").desc()).take(2)[1]\n",
    "\n",
    "print(avg_windspeed)"
   ]
  },
  {
   "cell_type": "markdown",
   "metadata": {},
   "source": [
    "Aruba had the second highest average windspeed at 16 knots. \n",
    "\n",
    "While the method of taking 2 and picking the last one works for selecting the second element, it would be very inefficient for selecting the Nth element for high N."
   ]
  }
 ],
 "metadata": {
  "kernelspec": {
   "display_name": "Python 3",
   "language": "python",
   "name": "python3"
  },
  "language_info": {
   "codemirror_mode": {
    "name": "ipython",
    "version": 3
   },
   "file_extension": ".py",
   "mimetype": "text/x-python",
   "name": "python",
   "nbconvert_exporter": "python",
   "pygments_lexer": "ipython3",
   "version": "3.8.6"
  }
 },
 "nbformat": 4,
 "nbformat_minor": 4
}
