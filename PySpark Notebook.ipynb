{
 "cells": [
  {
   "cell_type": "code",
   "execution_count": 104,
   "metadata": {},
   "outputs": [],
   "source": [
    "import pandas as pd\n",
    "from pyspark.sql import SparkSession\n",
    "from pyspark.sql.functions import *\n",
    "from pyspark.sql import Window\n",
    "from pyspark.ml.feature import Imputer\n",
    "from pyspark.sql.types import FloatType"
   ]
  },
  {
   "cell_type": "code",
   "execution_count": 66,
   "metadata": {},
   "outputs": [],
   "source": [
    "# Intiate our spark session\n",
    "spark = SparkSession.builder \\\n",
    "    .master(\"local\") \\\n",
    "    .config(\"spark.executor.memory\", \"2gb\") \\\n",
    "    .appName(\"Tech Challenge\") \\\n",
    "    .getOrCreate()"
   ]
  },
  {
   "cell_type": "code",
   "execution_count": 105,
   "metadata": {},
   "outputs": [],
   "source": [
    "# Load data into spark\n",
    "data = spark.read.csv(\"paytmteam-de-weather-challenge-beb4fc53605c/data/2019/*\", header=True)\n",
    "countries = spark.read.csv(\"paytmteam-de-weather-challenge-beb4fc53605c/countrylist.csv\", header=True)\n",
    "stations = spark.read.csv(\"paytmteam-de-weather-challenge-beb4fc53605c/stationlist.csv\", header=True)"
   ]
  },
  {
   "cell_type": "code",
   "execution_count": 106,
   "metadata": {},
   "outputs": [],
   "source": [
    "# Rename column to make joins easier\n",
    "stations = stations.withColumnRenamed(\"COUNTRY_ABBR\", \"STATION_COUNTRY_ABBR\")   "
   ]
  },
  {
   "cell_type": "code",
   "execution_count": 107,
   "metadata": {},
   "outputs": [],
   "source": [
    "# Convert important columns to int\n",
    "data = data.withColumn(\"TEMP\", data.TEMP.cast(FloatType()))\n",
    "data = data.withColumn(\"WDSP\", data.WDSP.cast(FloatType()))"
   ]
  },
  {
   "cell_type": "code",
   "execution_count": 108,
   "metadata": {},
   "outputs": [],
   "source": [
    "# Join Countries to stations and data to stations.\n",
    "dataset = stations.join(countries, stations.STATION_COUNTRY_ABBR == countries.COUNTRY_ABBR) \\\n",
    "                    .join(data, col(\"STN---\") == stations.STN_NO)"
   ]
  },
  {
   "cell_type": "code",
   "execution_count": 125,
   "metadata": {},
   "outputs": [],
   "source": [
    "# Replace missing temperature values with the mean\n",
    "\n",
    "imputer = Imputer(strategy='mean', inputCol=\"TEMP\", outputCol='TEMP_IMPUTED', missingValue=9999.9)\n",
    "impute_model = imputer.fit(dataset)\n",
    "\n",
    "dataset_temp_imputed = impute_model.transform(dataset)"
   ]
  },
  {
   "cell_type": "code",
   "execution_count": 126,
   "metadata": {},
   "outputs": [],
   "source": [
    "# Replace missing wind speed values with the mean. \n",
    "# Ideally this could be done in the same operation as above, \n",
    "# however different missing values makes this complicated.\n",
    "\n",
    "imputer = Imputer(strategy='mean', inputCol=\"WDSP\", outputCol='WDSP_IMPUTED', missingValue=999.9)\n",
    "impute_model = imputer.fit(dataset_temp_imputed)\n",
    "\n",
    "dataset_both_imputed = impute_model.transform(dataset_temp_imputed)"
   ]
  },
  {
   "cell_type": "markdown",
   "metadata": {},
   "source": [
    "# Which country had the hottest average mean temperature over the year?"
   ]
  },
  {
   "cell_type": "code",
   "execution_count": 127,
   "metadata": {},
   "outputs": [
    {
     "name": "stdout",
     "output_type": "stream",
     "text": [
      "root\n",
      " |-- STN_NO: string (nullable = true)\n",
      " |-- STATION_COUNTRY_ABBR: string (nullable = true)\n",
      " |-- COUNTRY_ABBR: string (nullable = true)\n",
      " |-- COUNTRY_FULL: string (nullable = true)\n",
      " |-- STN---: string (nullable = true)\n",
      " |-- WBAN: string (nullable = true)\n",
      " |-- YEARMODA: string (nullable = true)\n",
      " |-- TEMP: float (nullable = true)\n",
      " |-- DEWP: string (nullable = true)\n",
      " |-- SLP: string (nullable = true)\n",
      " |-- STP: string (nullable = true)\n",
      " |-- VISIB: string (nullable = true)\n",
      " |-- WDSP: float (nullable = true)\n",
      " |-- MXSPD: string (nullable = true)\n",
      " |-- GUST: string (nullable = true)\n",
      " |-- MAX: string (nullable = true)\n",
      " |-- MIN: string (nullable = true)\n",
      " |-- PRCP: string (nullable = true)\n",
      " |-- SNDP: string (nullable = true)\n",
      " |-- FRSHTT: string (nullable = true)\n",
      " |-- TEMP_IMPUTED: float (nullable = true)\n",
      " |-- WDSP_IMPUTED: float (nullable = true)\n",
      "\n"
     ]
    }
   ],
   "source": [
    "dataset_both_imputed.printSchema()"
   ]
  },
  {
   "cell_type": "code",
   "execution_count": 133,
   "metadata": {},
   "outputs": [
    {
     "data": {
      "text/plain": [
       "Row(COUNTRY_FULL='DJIBOUTI', avg_temp=90.06114474836602)"
      ]
     },
     "execution_count": 133,
     "metadata": {},
     "output_type": "execute_result"
    }
   ],
   "source": [
    "dataset_both_imputed.groupby(col(\"COUNTRY_FULL\")) \\\n",
    "        .agg(mean(\"TEMP_IMPUTED\").alias(\"avg_temp\")) \\\n",
    "        .sort(col(\"avg_temp\").desc()) \\\n",
    "        .first()"
   ]
  },
  {
   "cell_type": "markdown",
   "metadata": {},
   "source": [
    "Djibouti had the hottest average temperature for the year at 90.1 degrees Fahrenheit."
   ]
  },
  {
   "cell_type": "markdown",
   "metadata": {},
   "source": [
    "# Which country had the most consecutive days of tornadoes/funnel cloud formations?"
   ]
  },
  {
   "cell_type": "code",
   "execution_count": 141,
   "metadata": {},
   "outputs": [
    {
     "name": "stdout",
     "output_type": "stream",
     "text": [
      "root\n",
      " |-- STN_NO: string (nullable = true)\n",
      " |-- STATION_COUNTRY_ABBR: string (nullable = true)\n",
      " |-- COUNTRY_ABBR: string (nullable = true)\n",
      " |-- COUNTRY_FULL: string (nullable = true)\n",
      " |-- STN---: string (nullable = true)\n",
      " |-- WBAN: string (nullable = true)\n",
      " |-- YEARMODA: string (nullable = true)\n",
      " |-- TEMP: float (nullable = true)\n",
      " |-- DEWP: string (nullable = true)\n",
      " |-- SLP: string (nullable = true)\n",
      " |-- STP: string (nullable = true)\n",
      " |-- VISIB: string (nullable = true)\n",
      " |-- WDSP: float (nullable = true)\n",
      " |-- MXSPD: string (nullable = true)\n",
      " |-- GUST: string (nullable = true)\n",
      " |-- MAX: string (nullable = true)\n",
      " |-- MIN: string (nullable = true)\n",
      " |-- PRCP: string (nullable = true)\n",
      " |-- SNDP: string (nullable = true)\n",
      " |-- FRSHTT: string (nullable = true)\n",
      " |-- TEMP_IMPUTED: float (nullable = true)\n",
      " |-- WDSP_IMPUTED: float (nullable = true)\n",
      "\n"
     ]
    }
   ],
   "source": [
    "dataset_both_imputed.printSchema()"
   ]
  },
  {
   "cell_type": "code",
   "execution_count": 153,
   "metadata": {},
   "outputs": [
    {
     "data": {
      "text/plain": [
       "Row(STN_NO='725846', STATION_COUNTRY_ABBR='US', COUNTRY_ABBR='US', COUNTRY_FULL='UNITED STATES', STN---='725846', WBAN='93201', YEARMODA='20191209', TEMP=29.299999237060547, DEWP='28.6', SLP='9999.9', STP='821.7', VISIB='1.1', WDSP=0.5, MXSPD='4.1', GUST='999.9', MAX='41.0', MIN='25.0', PRCP='99.99', SNDP='3.1', FRSHTT='101001', TEMP_IMPUTED=29.299999237060547, WDSP_IMPUTED=0.5, tornado_day='1', consecutive_tornadoes=34)"
      ]
     },
     "execution_count": 153,
     "metadata": {},
     "output_type": "execute_result"
    }
   ],
   "source": [
    "dataset_both_imputed\n",
    "\n",
    "\n",
    "dataset_both_imputed.withColumn(\"tornado_day\", substring(\"FRSHTT\", 6, 1)) \\\n",
    "    .withColumn(\"consecutive_tornadoes\", \n",
    "                row_number().over(Window\n",
    "                                  .partitionBy(col(\"COUNTRY_FULL\"), col(\"tornado_day\"))\n",
    "                                  .orderBy(col(\"YEARMODA\")))) \\\n",
    "    .filter(col(\"tornado_day\") == 1) \\\n",
    "    .sort(col(\"consecutive_tornadoes\").desc()) \\\n",
    "    .first()\n",
    "    .select(\"COUNTRY_FULL\", \"consecutive_tornadoes\")\n",
    "    .show()\n",
    "                        \n",
    "                    "
   ]
  },
  {
   "cell_type": "markdown",
   "metadata": {},
   "source": [
    "The United States had the most consecutive tornado days, at 34."
   ]
  },
  {
   "cell_type": "markdown",
   "metadata": {},
   "source": [
    "# Which country had the second highest average mean wind speed over the year?"
   ]
  },
  {
   "cell_type": "code",
   "execution_count": 154,
   "metadata": {},
   "outputs": [
    {
     "name": "stdout",
     "output_type": "stream",
     "text": [
      "Row(COUNTRY_FULL='ARMENIA', avg_wdsp=457.3659429499847)\n"
     ]
    }
   ],
   "source": [
    "avg_windspeed = dataset_both_imputed.groupby(col(\"COUNTRY_FULL\")) \\\n",
    "        .agg(mean(\"WDSP_IMPUTED\").alias(\"avg_wdsp\")) \\\n",
    "        .sort(col(\"avg_wdsp\").desc()).take(2)[1]\n",
    "\n",
    "print(avg_windspeed)"
   ]
  },
  {
   "cell_type": "markdown",
   "metadata": {},
   "source": [
    "\n",
    "Armenia had the second highest average windspeed at 457 knots. Although this seems too high, so perhaps my imputer did not work properly. \n",
    "\n",
    "While the method of taking 2 and dropping selecting the last one works for selecting the second, it would be very inefficient for high seNth"
   ]
  },
  {
   "cell_type": "code",
   "execution_count": null,
   "metadata": {},
   "outputs": [],
   "source": []
  }
 ],
 "metadata": {
  "kernelspec": {
   "display_name": "Python 3",
   "language": "python",
   "name": "python3"
  },
  "language_info": {
   "codemirror_mode": {
    "name": "ipython",
    "version": 3
   },
   "file_extension": ".py",
   "mimetype": "text/x-python",
   "name": "python",
   "nbconvert_exporter": "python",
   "pygments_lexer": "ipython3",
   "version": "3.8.6"
  }
 },
 "nbformat": 4,
 "nbformat_minor": 4
}
